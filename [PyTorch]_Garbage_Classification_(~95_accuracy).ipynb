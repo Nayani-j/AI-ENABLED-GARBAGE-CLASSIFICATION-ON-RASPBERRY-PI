{
  "metadata": {
    "kernelspec": {
      "language": "python",
      "display_name": "Python 3",
      "name": "python3"
    },
    "language_info": {
      "name": "python",
      "version": "3.7.6",
      "mimetype": "text/x-python",
      "codemirror_mode": {
        "name": "ipython",
        "version": 3
      },
      "pygments_lexer": "ipython3",
      "nbconvert_exporter": "python",
      "file_extension": ".py"
    },
    "kaggle": {
      "accelerator": "gpu",
      "dataSources": [
        {
          "sourceId": 189983,
          "sourceType": "datasetVersion",
          "datasetId": 81794
        }
      ],
      "dockerImageVersionId": 29963,
      "isInternetEnabled": true,
      "language": "python",
      "sourceType": "notebook",
      "isGpuEnabled": true
    },
    "colab": {
      "name": "[PyTorch] Garbage Classification (~95% accuracy)",
      "provenance": [],
      "include_colab_link": true
    }
  },
  "nbformat_minor": 0,
  "nbformat": 4,
  "cells": [
    {
      "cell_type": "markdown",
      "metadata": {
        "id": "view-in-github",
        "colab_type": "text"
      },
      "source": [
        "<a href=\"https://colab.research.google.com/github/Nayani-j/AI-ENABLED-GARBAGE-CLASSIFICATION-ON-RASPBERRY-PI/blob/main/%5BPyTorch%5D_Garbage_Classification_(~95_accuracy).ipynb\" target=\"_parent\"><img src=\"https://colab.research.google.com/assets/colab-badge.svg\" alt=\"Open In Colab\"/></a>"
      ]
    },
    {
      "source": [
        "# IMPORTANT: RUN THIS CELL IN ORDER TO IMPORT YOUR KAGGLE DATA SOURCES,\n",
        "# THEN FEEL FREE TO DELETE THIS CELL.\n",
        "# NOTE: THIS NOTEBOOK ENVIRONMENT DIFFERS FROM KAGGLE'S PYTHON\n",
        "# ENVIRONMENT SO THERE MAY BE MISSING LIBRARIES USED BY YOUR\n",
        "# NOTEBOOK.\n",
        "import kagglehub\n",
        "asdasdasasdas_garbage_classification_path = kagglehub.dataset_download('asdasdasasdas/garbage-classification')\n",
        "\n",
        "print('Data source import complete.')\n"
      ],
      "metadata": {
        "id": "8yVNJx4lknfE"
      },
      "cell_type": "code",
      "outputs": [],
      "execution_count": null
    },
    {
      "cell_type": "markdown",
      "source": [
        "# Garbage Classification using PyTorch\n",
        "\n",
        "Garbage segregation involves separating wastes according to how it's handled or processed. It's important for recycling as some materials are recyclable and others are not.\n",
        "\n",
        "\n",
        "![Garbage Bins](https://external-content.duckduckgo.com/iu/?u=https%3A%2F%2Fwebstockreview.net%2Fimages%2Fgarbage-clipart-wastebin-16.png&f=1&nofb=1)\n",
        "\n",
        "\n",
        "In this notebook we'll use PyTorch for classifying trash into various categories like metal, cardboard, etc."
      ],
      "metadata": {
        "id": "_THW-IuoknfE"
      }
    },
    {
      "cell_type": "markdown",
      "source": [
        "Let us start by importing the libraries:"
      ],
      "metadata": {
        "id": "17aEB7NdknfF"
      }
    },
    {
      "cell_type": "code",
      "source": [
        "import os\n",
        "import torch\n",
        "import torchvision\n",
        "from torch.utils.data import random_split\n",
        "import torchvision.models as models\n",
        "import torch.nn as nn\n",
        "import torch.nn.functional as F"
      ],
      "metadata": {
        "_uuid": "d629ff2d2480ee46fbb7e2d37f6b5fab8052498a",
        "_cell_guid": "79c7e3d0-c299-4dcb-8224-4455121ee9b0",
        "trusted": true,
        "execution": {
          "iopub.status.busy": "2024-11-25T05:58:41.282623Z",
          "iopub.execute_input": "2024-11-25T05:58:41.282914Z",
          "iopub.status.idle": "2024-11-25T05:58:42.807188Z",
          "shell.execute_reply.started": "2024-11-25T05:58:41.282891Z",
          "shell.execute_reply": "2024-11-25T05:58:42.806291Z"
        },
        "id": "TV8gRaZbknfF"
      },
      "outputs": [],
      "execution_count": null
    },
    {
      "cell_type": "markdown",
      "source": [
        "Let us see the classes present in the dataset:"
      ],
      "metadata": {
        "id": "wOIs6EEUknfG"
      }
    },
    {
      "cell_type": "code",
      "source": [
        "data_dir  = '/kaggle/input/garbage-classification/Garbage classification/Garbage classification'\n",
        "\n",
        "classes = os.listdir(data_dir)\n",
        "print(classes)"
      ],
      "metadata": {
        "trusted": true,
        "id": "LrA1Ae6vknfH"
      },
      "outputs": [],
      "execution_count": null
    },
    {
      "cell_type": "markdown",
      "source": [
        "## Transformations:"
      ],
      "metadata": {
        "id": "9eCEgN0BknfI"
      }
    },
    {
      "cell_type": "markdown",
      "source": [
        "Now, let's apply transformations to the dataset and import it for use."
      ],
      "metadata": {
        "id": "f5qYadSWknfJ"
      }
    },
    {
      "cell_type": "code",
      "source": [
        "from torchvision.datasets import ImageFolder\n",
        "import torchvision.transforms as transforms\n",
        "\n",
        "transformations = transforms.Compose([transforms.Resize((256, 256)), transforms.ToTensor()])\n",
        "\n",
        "dataset = ImageFolder(data_dir, transform = transformations)"
      ],
      "metadata": {
        "trusted": true,
        "id": "-EB-aFyCknfJ"
      },
      "outputs": [],
      "execution_count": null
    },
    {
      "cell_type": "markdown",
      "source": [
        "Let's create a helper function to see the image and its corresponding label:"
      ],
      "metadata": {
        "id": "ck6ns4cZknfJ"
      }
    },
    {
      "cell_type": "code",
      "source": [
        "import matplotlib.pyplot as plt\n",
        "%matplotlib inline\n",
        "\n",
        "def show_sample(img, label):\n",
        "    print(\"Label:\", dataset.classes[label], \"(Class No: \"+ str(label) + \")\")\n",
        "    plt.imshow(img.permute(1, 2, 0))"
      ],
      "metadata": {
        "trusted": true,
        "id": "JWeHT0a-knfK"
      },
      "outputs": [],
      "execution_count": null
    },
    {
      "cell_type": "code",
      "source": [
        "img, label = dataset[12]\n",
        "show_sample(img, label)"
      ],
      "metadata": {
        "trusted": true,
        "id": "1QheZ_odknfK"
      },
      "outputs": [],
      "execution_count": null
    },
    {
      "cell_type": "markdown",
      "source": [
        "# Loading and Splitting Data:"
      ],
      "metadata": {
        "id": "X1fNq9KtknfL"
      }
    },
    {
      "cell_type": "code",
      "source": [
        "random_seed = 42\n",
        "torch.manual_seed(random_seed)"
      ],
      "metadata": {
        "trusted": true,
        "id": "vgk0L5RVknfL"
      },
      "outputs": [],
      "execution_count": null
    },
    {
      "cell_type": "markdown",
      "source": [
        "We'll split the dataset into training, validation and test sets:"
      ],
      "metadata": {
        "id": "TMDPjsS5knfM"
      }
    },
    {
      "cell_type": "code",
      "source": [
        "train_ds, val_ds, test_ds = random_split(dataset, [1593, 176, 758])\n",
        "len(train_ds), len(val_ds), len(test_ds)"
      ],
      "metadata": {
        "trusted": true,
        "id": "Q0nKoZ0nknfM"
      },
      "outputs": [],
      "execution_count": null
    },
    {
      "cell_type": "code",
      "source": [
        "from torch.utils.data.dataloader import DataLoader\n",
        "batch_size = 32"
      ],
      "metadata": {
        "trusted": true,
        "id": "cve2AvgaknfM"
      },
      "outputs": [],
      "execution_count": null
    },
    {
      "cell_type": "markdown",
      "source": [
        "Now, we'll create training and validation dataloaders using `DataLoader`."
      ],
      "metadata": {
        "id": "TXWY2679knfM"
      }
    },
    {
      "cell_type": "code",
      "source": [
        "train_dl = DataLoader(train_ds, batch_size, shuffle = True, num_workers = 4, pin_memory = True)\n",
        "val_dl = DataLoader(val_ds, batch_size*2, num_workers = 4, pin_memory = True)"
      ],
      "metadata": {
        "trusted": true,
        "id": "vA9jYABfknfM"
      },
      "outputs": [],
      "execution_count": null
    },
    {
      "cell_type": "markdown",
      "source": [
        "This is a helper function to visualize batches:"
      ],
      "metadata": {
        "id": "FI55R8-RknfM"
      }
    },
    {
      "cell_type": "code",
      "source": [
        "from torchvision.utils import make_grid\n",
        "\n",
        "def show_batch(dl):\n",
        "    for images, labels in dl:\n",
        "        fig, ax = plt.subplots(figsize=(12, 6))\n",
        "        ax.set_xticks([])\n",
        "        ax.set_yticks([])\n",
        "        ax.imshow(make_grid(images, nrow = 16).permute(1, 2, 0))\n",
        "        break"
      ],
      "metadata": {
        "trusted": true,
        "id": "RO1BCclVknfN"
      },
      "outputs": [],
      "execution_count": null
    },
    {
      "cell_type": "code",
      "source": [
        "show_batch(train_dl)"
      ],
      "metadata": {
        "trusted": true,
        "id": "VhM6VNpZknfN"
      },
      "outputs": [],
      "execution_count": null
    },
    {
      "cell_type": "markdown",
      "source": [
        "# Model Base:"
      ],
      "metadata": {
        "id": "fgVR1QaxknfN"
      }
    },
    {
      "cell_type": "markdown",
      "source": [
        "Let's create the model base:"
      ],
      "metadata": {
        "id": "41dsmZ0bknfN"
      }
    },
    {
      "cell_type": "code",
      "source": [
        "def accuracy(outputs, labels):\n",
        "    _, preds = torch.max(outputs, dim=1)\n",
        "    return torch.tensor(torch.sum(preds == labels).item() / len(preds))\n",
        "\n",
        "class ImageClassificationBase(nn.Module):\n",
        "    def training_step(self, batch):\n",
        "        images, labels = batch\n",
        "        out = self(images)                  # Generate predictions\n",
        "        loss = F.cross_entropy(out, labels) # Calculate loss\n",
        "        return loss\n",
        "\n",
        "    def validation_step(self, batch):\n",
        "        images, labels = batch\n",
        "        out = self(images)                    # Generate predictions\n",
        "        loss = F.cross_entropy(out, labels)   # Calculate loss\n",
        "        acc = accuracy(out, labels)           # Calculate accuracy\n",
        "        return {'val_loss': loss.detach(), 'val_acc': acc}\n",
        "\n",
        "    def validation_epoch_end(self, outputs):\n",
        "        batch_losses = [x['val_loss'] for x in outputs]\n",
        "        epoch_loss = torch.stack(batch_losses).mean()   # Combine losses\n",
        "        batch_accs = [x['val_acc'] for x in outputs]\n",
        "        epoch_acc = torch.stack(batch_accs).mean()      # Combine accuracies\n",
        "        return {'val_loss': epoch_loss.item(), 'val_acc': epoch_acc.item()}\n",
        "\n",
        "    def epoch_end(self, epoch, result):\n",
        "        print(\"Epoch {}: train_loss: {:.4f}, val_loss: {:.4f}, val_acc: {:.4f}\".format(\n",
        "            epoch+1, result['train_loss'], result['val_loss'], result['val_acc']))"
      ],
      "metadata": {
        "trusted": true,
        "id": "cIolSi9JknfN"
      },
      "outputs": [],
      "execution_count": null
    },
    {
      "cell_type": "markdown",
      "source": [
        "We'll be using ResNet50 for classifying images:"
      ],
      "metadata": {
        "id": "6uwJhZvfknfN"
      }
    },
    {
      "cell_type": "code",
      "source": [
        "class ResNet(ImageClassificationBase):\n",
        "    def __init__(self):\n",
        "        super().__init__()\n",
        "        # Use a pretrained model\n",
        "        self.network = models.resnet50(pretrained=True)\n",
        "        # Replace last layer\n",
        "        num_ftrs = self.network.fc.in_features\n",
        "        self.network.fc = nn.Linear(num_ftrs, len(dataset.classes))\n",
        "\n",
        "    def forward(self, xb):\n",
        "        return torch.sigmoid(self.network(xb))\n",
        "\n",
        "model = ResNet()"
      ],
      "metadata": {
        "trusted": true,
        "id": "4ThKAUMjknfN"
      },
      "outputs": [],
      "execution_count": null
    },
    {
      "cell_type": "markdown",
      "source": [
        "## Porting to GPU:"
      ],
      "metadata": {
        "id": "D_hUT-NtknfN"
      }
    },
    {
      "cell_type": "markdown",
      "source": [
        "GPUs tend to perform faster calculations than CPU. Let's take this advantage and use GPU for computation:"
      ],
      "metadata": {
        "id": "uwl1xnktknfN"
      }
    },
    {
      "cell_type": "code",
      "source": [
        "def get_default_device():\n",
        "    \"\"\"Pick GPU if available, else CPU\"\"\"\n",
        "    if torch.cuda.is_available():\n",
        "        return torch.device('cuda')\n",
        "    else:\n",
        "        return torch.device('cpu')\n",
        "\n",
        "def to_device(data, device):\n",
        "    \"\"\"Move tensor(s) to chosen device\"\"\"\n",
        "    if isinstance(data, (list,tuple)):\n",
        "        return [to_device(x, device) for x in data]\n",
        "    return data.to(device, non_blocking=True)\n",
        "\n",
        "class DeviceDataLoader():\n",
        "    \"\"\"Wrap a dataloader to move data to a device\"\"\"\n",
        "    def __init__(self, dl, device):\n",
        "        self.dl = dl\n",
        "        self.device = device\n",
        "\n",
        "    def __iter__(self):\n",
        "        \"\"\"Yield a batch of data after moving it to device\"\"\"\n",
        "        for b in self.dl:\n",
        "            yield to_device(b, self.device)\n",
        "\n",
        "    def __len__(self):\n",
        "        \"\"\"Number of batches\"\"\"\n",
        "        return len(self.dl)"
      ],
      "metadata": {
        "trusted": true,
        "id": "aigkbLrGknfN"
      },
      "outputs": [],
      "execution_count": null
    },
    {
      "cell_type": "code",
      "source": [
        "device = get_default_device()\n",
        "device"
      ],
      "metadata": {
        "trusted": true,
        "id": "lUMDJ4U8knfN"
      },
      "outputs": [],
      "execution_count": null
    },
    {
      "cell_type": "code",
      "source": [
        "train_dl = DeviceDataLoader(train_dl, device)\n",
        "val_dl = DeviceDataLoader(val_dl, device)\n",
        "to_device(model, device)"
      ],
      "metadata": {
        "trusted": true,
        "id": "fYP4P-r9knfN"
      },
      "outputs": [],
      "execution_count": null
    },
    {
      "cell_type": "markdown",
      "source": [
        "# Training the Model:"
      ],
      "metadata": {
        "id": "hEtTsR8TknfN"
      }
    },
    {
      "cell_type": "markdown",
      "source": [
        "This is the function for fitting the model."
      ],
      "metadata": {
        "id": "lnbUTKI6knfN"
      }
    },
    {
      "cell_type": "code",
      "source": [
        "@torch.no_grad()\n",
        "def evaluate(model, val_loader):\n",
        "    model.eval()\n",
        "    outputs = [model.validation_step(batch) for batch in val_loader]\n",
        "    return model.validation_epoch_end(outputs)\n",
        "\n",
        "def fit(epochs, lr, model, train_loader, val_loader, opt_func=torch.optim.SGD):\n",
        "    history = []\n",
        "    optimizer = opt_func(model.parameters(), lr)\n",
        "    for epoch in range(epochs):\n",
        "        # Training Phase\n",
        "        model.train()\n",
        "        train_losses = []\n",
        "        for batch in train_loader:\n",
        "            loss = model.training_step(batch)\n",
        "            train_losses.append(loss)\n",
        "            loss.backward()\n",
        "            optimizer.step()\n",
        "            optimizer.zero_grad()\n",
        "        # Validation phase\n",
        "        result = evaluate(model, val_loader)\n",
        "        result['train_loss'] = torch.stack(train_losses).mean().item()\n",
        "        model.epoch_end(epoch, result)\n",
        "        history.append(result)\n",
        "    return history"
      ],
      "metadata": {
        "trusted": true,
        "id": "1HYgVBxZknfO"
      },
      "outputs": [],
      "execution_count": null
    },
    {
      "cell_type": "code",
      "source": [
        "model = to_device(ResNet(), device)"
      ],
      "metadata": {
        "trusted": true,
        "id": "NS8pCVdrknfO"
      },
      "outputs": [],
      "execution_count": null
    },
    {
      "cell_type": "code",
      "source": [
        "evaluate(model, val_dl)"
      ],
      "metadata": {
        "trusted": true,
        "id": "6wUFNCLVknfO"
      },
      "outputs": [],
      "execution_count": null
    },
    {
      "cell_type": "markdown",
      "source": [
        "Let's start training the model:"
      ],
      "metadata": {
        "id": "a78M4Wm_knfO"
      }
    },
    {
      "cell_type": "code",
      "source": [
        "num_epochs = 8\n",
        "opt_func = torch.optim.Adam\n",
        "lr = 5.5e-5\n",
        "\n",
        "history = fit(num_epochs, lr, model, train_dl, val_dl, opt_func)"
      ],
      "metadata": {
        "trusted": true,
        "id": "e1W0MxdGknfO"
      },
      "outputs": [],
      "execution_count": null
    },
    {
      "cell_type": "code",
      "source": [
        "def plot_accuracies(history):\n",
        "    accuracies = [x['val_acc'] for x in history]\n",
        "    plt.plot(accuracies, '-x')\n",
        "    plt.xlabel('epoch')\n",
        "    plt.ylabel('accuracy')\n",
        "    plt.title('Accuracy vs. No. of epochs');\n",
        "\n",
        "plot_accuracies(history)"
      ],
      "metadata": {
        "trusted": true,
        "id": "CkG-qpmsknfR"
      },
      "outputs": [],
      "execution_count": null
    },
    {
      "cell_type": "code",
      "source": [
        "def plot_losses(history):\n",
        "    train_losses = [x.get('train_loss') for x in history]\n",
        "    val_losses = [x['val_loss'] for x in history]\n",
        "    plt.plot(train_losses, '-bx')\n",
        "    plt.plot(val_losses, '-rx')\n",
        "    plt.xlabel('epoch')\n",
        "    plt.ylabel('loss')\n",
        "    plt.legend(['Training', 'Validation'])\n",
        "    plt.title('Loss vs. No. of epochs');\n",
        "\n",
        "plot_losses(history)"
      ],
      "metadata": {
        "trusted": true,
        "id": "_j0Ye9C3knfS"
      },
      "outputs": [],
      "execution_count": null
    },
    {
      "cell_type": "markdown",
      "source": [
        "# Visualizing Predictions:"
      ],
      "metadata": {
        "id": "0H74C461knfS"
      }
    },
    {
      "cell_type": "code",
      "source": [
        "def predict_image(img, model):\n",
        "    # Convert to a batch of 1\n",
        "    xb = to_device(img.unsqueeze(0), device)\n",
        "    # Get predictions from model\n",
        "    yb = model(xb)\n",
        "    # Pick index with highest probability\n",
        "    prob, preds  = torch.max(yb, dim=1)\n",
        "    # Retrieve the class label\n",
        "    return dataset.classes[preds[0].item()]"
      ],
      "metadata": {
        "trusted": true,
        "id": "dwpqbXEdknfS"
      },
      "outputs": [],
      "execution_count": null
    },
    {
      "cell_type": "markdown",
      "source": [
        "Let us see the model's predictions on the test dataset:"
      ],
      "metadata": {
        "id": "A9rY2CSlknfS"
      }
    },
    {
      "cell_type": "code",
      "source": [
        "img, label = test_ds[17]\n",
        "plt.imshow(img.permute(1, 2, 0))\n",
        "print('Label:', dataset.classes[label], ', Predicted:', predict_image(img, model))"
      ],
      "metadata": {
        "trusted": true,
        "id": "uKAlqm3NknfS"
      },
      "outputs": [],
      "execution_count": null
    },
    {
      "cell_type": "code",
      "source": [
        "img, label = test_ds[23]\n",
        "plt.imshow(img.permute(1, 2, 0))\n",
        "print('Label:', dataset.classes[label], ', Predicted:', predict_image(img, model))"
      ],
      "metadata": {
        "trusted": true,
        "id": "cDi0ZQuvknfS"
      },
      "outputs": [],
      "execution_count": null
    },
    {
      "cell_type": "code",
      "source": [
        "img, label = test_ds[51]\n",
        "plt.imshow(img.permute(1, 2, 0))\n",
        "print('Label:', dataset.classes[label], ', Predicted:', predict_image(img, model))"
      ],
      "metadata": {
        "trusted": true,
        "id": "Mj6ZekU1knfS"
      },
      "outputs": [],
      "execution_count": null
    },
    {
      "cell_type": "markdown",
      "source": [
        "# Predicting External Images:"
      ],
      "metadata": {
        "id": "auN72qCEknfS"
      }
    },
    {
      "cell_type": "markdown",
      "source": [
        "Let's now test with external images.\n",
        "\n",
        "I'll use `urllib` for downloading external images."
      ],
      "metadata": {
        "id": "BRmdYYgyknfS"
      }
    },
    {
      "cell_type": "code",
      "source": [
        "import urllib.request\n",
        "urllib.request.urlretrieve(\"https://external-content.duckduckgo.com/iu/?u=https%3A%2F%2Fengage.vic.gov.au%2Fapplication%2Ffiles%2F1415%2F0596%2F9236%2FDSC_0026.JPG&f=1&nofb=1\", \"plastic.jpg\")\n",
        "urllib.request.urlretrieve(\"https://external-content.duckduckgo.com/iu/?u=http%3A%2F%2Fi.ebayimg.com%2Fimages%2Fi%2F291536274730-0-1%2Fs-l1000.jpg&f=1&nofb=1\", \"cardboard.jpg\")\n",
        "urllib.request.urlretrieve(\"https://external-content.duckduckgo.com/iu/?u=https%3A%2F%2Ftse4.mm.bing.net%2Fth%3Fid%3DOIP.2F0uH6BguQMctAYEJ-s-1gHaHb%26pid%3DApi&f=1\", \"cans.jpg\")\n",
        "urllib.request.urlretrieve(\"https://external-content.duckduckgo.com/iu/?u=https%3A%2F%2Ftinytrashcan.com%2Fwp-content%2Fuploads%2F2018%2F08%2Ftiny-trash-can-bulk-wine-bottle.jpg&f=1&nofb=1\", \"wine-trash.jpg\")\n",
        "urllib.request.urlretrieve(\"http://ourauckland.aucklandcouncil.govt.nz/media/7418/38-94320.jpg\", \"paper-trash.jpg\")"
      ],
      "metadata": {
        "trusted": true,
        "id": "US2esefIknfS"
      },
      "outputs": [],
      "execution_count": null
    },
    {
      "cell_type": "markdown",
      "source": [
        "Let us load the model. You can load an external pre-trained model too!"
      ],
      "metadata": {
        "id": "LxixG_dOknfS"
      }
    },
    {
      "cell_type": "code",
      "source": [
        "loaded_model = model"
      ],
      "metadata": {
        "trusted": true,
        "id": "eS1p-EPYknfS"
      },
      "outputs": [],
      "execution_count": null
    },
    {
      "cell_type": "markdown",
      "source": [
        "This function takes the image's name and prints the predictions:"
      ],
      "metadata": {
        "id": "urgVcYOWknfS"
      }
    },
    {
      "cell_type": "code",
      "source": [
        "from PIL import Image\n",
        "from pathlib import Path\n",
        "\n",
        "def predict_external_image(image_name):\n",
        "    image = Image.open(Path('./' + image_name))\n",
        "\n",
        "    example_image = transformations(image)\n",
        "    plt.imshow(example_image.permute(1, 2, 0))\n",
        "    print(\"The image resembles\", predict_image(example_image, loaded_model) + \".\")"
      ],
      "metadata": {
        "trusted": true,
        "id": "GRn4N9yAknfS"
      },
      "outputs": [],
      "execution_count": null
    },
    {
      "cell_type": "code",
      "source": [
        "predict_external_image('cans.jpg')"
      ],
      "metadata": {
        "trusted": true,
        "id": "LTnGtjVfknfT"
      },
      "outputs": [],
      "execution_count": null
    },
    {
      "cell_type": "code",
      "source": [
        "predict_external_image('cardboard.jpg')"
      ],
      "metadata": {
        "trusted": true,
        "id": "fqEisi9DknfT"
      },
      "outputs": [],
      "execution_count": null
    },
    {
      "cell_type": "code",
      "source": [
        "predict_external_image('plastic.jpg')"
      ],
      "metadata": {
        "trusted": true,
        "id": "tKJIq8ptknfT"
      },
      "outputs": [],
      "execution_count": null
    },
    {
      "cell_type": "code",
      "source": [
        "predict_external_image('wine-trash.jpg')"
      ],
      "metadata": {
        "trusted": true,
        "id": "rySYAYdUknfT"
      },
      "outputs": [],
      "execution_count": null
    },
    {
      "cell_type": "code",
      "source": [
        "predict_external_image('paper-trash.jpg')"
      ],
      "metadata": {
        "trusted": true,
        "id": "_lot2x0yknfT"
      },
      "outputs": [],
      "execution_count": null
    },
    {
      "cell_type": "markdown",
      "source": [
        "# Conclusion:\n",
        "\n",
        "Our model is able to classify garbage with **95% accuracy**!\n",
        "\n",
        "It's great to see the model's predictions on the test set. It works pretty good on external images too!\n",
        "\n",
        "You can try experimenting with more images and see the results!"
      ],
      "metadata": {
        "id": "T_DKVyFlknfT"
      }
    },
    {
      "cell_type": "markdown",
      "source": [
        "### If you liked the kernel, don't forget to show some appreciation :)"
      ],
      "metadata": {
        "jp-MarkdownHeadingCollapsed": true,
        "id": "qj9gyRp0knfT"
      }
    }
  ]
}