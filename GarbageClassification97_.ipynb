{
  "metadata": {
    "kernelspec": {
      "language": "python",
      "display_name": "Python 3",
      "name": "python3"
    },
    "language_info": {
      "pygments_lexer": "ipython3",
      "nbconvert_exporter": "python",
      "version": "3.6.4",
      "file_extension": ".py",
      "codemirror_mode": {
        "name": "ipython",
        "version": 3
      },
      "name": "python",
      "mimetype": "text/x-python"
    },
    "kaggle": {
      "accelerator": "gpu",
      "dataSources": [
        {
          "sourceId": 189983,
          "sourceType": "datasetVersion",
          "datasetId": 81794
        },
        {
          "sourceId": 1874598,
          "sourceType": "datasetVersion",
          "datasetId": 1115942
        }
      ],
      "dockerImageVersionId": 30408,
      "isInternetEnabled": true,
      "language": "python",
      "sourceType": "notebook",
      "isGpuEnabled": true
    },
    "colab": {
      "name": "GarbageClassification97%",
      "provenance": []
    }
  },
  "nbformat_minor": 0,
  "nbformat": 4,
  "cells": [
    {
      "source": [
        "# IMPORTANT: RUN THIS CELL IN ORDER TO IMPORT YOUR KAGGLE DATA SOURCES,\n",
        "# THEN FEEL FREE TO DELETE THIS CELL.\n",
        "# NOTE: THIS NOTEBOOK ENVIRONMENT DIFFERS FROM KAGGLE'S PYTHON\n",
        "# ENVIRONMENT SO THERE MAY BE MISSING LIBRARIES USED BY YOUR\n",
        "# NOTEBOOK.\n",
        "import kagglehub\n",
        "asdasdasasdas_garbage_classification_path = kagglehub.dataset_download('asdasdasasdas/garbage-classification')\n",
        "mostafaabla_garbage_classification_path = kagglehub.dataset_download('mostafaabla/garbage-classification')\n",
        "\n",
        "print('Data source import complete.')\n"
      ],
      "metadata": {
        "id": "M8V6PfP8lKkg"
      },
      "cell_type": "code",
      "outputs": [],
      "execution_count": null
    },
    {
      "cell_type": "markdown",
      "source": [
        "# Garbage Classification with self supervised learning and swin transformer"
      ],
      "metadata": {
        "id": "e4p5s83olKkj"
      }
    },
    {
      "cell_type": "markdown",
      "source": [
        "# basic imports"
      ],
      "metadata": {
        "id": "JZWQLzAdlKkl"
      }
    },
    {
      "cell_type": "code",
      "source": [
        "import numpy as np\n",
        "import pandas as pd\n",
        "import os\n",
        "import cv2\n",
        "from PIL import Image\n",
        "from matplotlib import pyplot as plt\n",
        "from tensorflow.keras.layers import Input, Lambda, Dense, Flatten\n",
        "from tensorflow.keras.models import Model\n",
        "from tensorflow.keras.preprocessing import image\n",
        "from tensorflow.keras.preprocessing.image import ImageDataGenerator\n",
        "from tensorflow.keras.models import Sequential\n",
        "import tensorflow as tf\n",
        "from tensorflow.keras.layers import Dense, Dropout, Flatten, Conv2D, MaxPool2D, BatchNormalization,MaxPooling2D,BatchNormalization,\\\n",
        "                        Permute, TimeDistributed, GlobalAveragePooling2D, SeparableConv2D,\\\n",
        "ZeroPadding2D, Convolution2D, ZeroPadding2D, Conv2DTranspose,ReLU, UpSampling2D, Concatenate, Conv2DTranspose"
      ],
      "metadata": {
        "_uuid": "8f2839f25d086af736a60e9eeb907d3b93b6e0e5",
        "_cell_guid": "b1076dfc-b9ad-4769-8c92-a6c4dae69d19",
        "execution": {
          "iopub.status.busy": "2023-04-12T11:38:52.339181Z",
          "iopub.execute_input": "2023-04-12T11:38:52.339516Z",
          "iopub.status.idle": "2023-04-12T11:39:00.983433Z",
          "shell.execute_reply.started": "2023-04-12T11:38:52.339486Z",
          "shell.execute_reply": "2023-04-12T11:39:00.982289Z"
        },
        "trusted": true,
        "id": "uIT4jUkclKkl"
      },
      "outputs": [],
      "execution_count": null
    },
    {
      "cell_type": "markdown",
      "source": [
        "# converting into a dataframe"
      ],
      "metadata": {
        "id": "-Fs87Oe6lKkm"
      }
    },
    {
      "cell_type": "code",
      "source": [
        "root='/kaggle/input/d/mostafaabla/garbage-classification/garbage_classification/'\n",
        "data={}\n",
        "for i in os.listdir(root):\n",
        "    for j in os.walk(root+i):\n",
        "        for k in j[2]:\n",
        "            data[root+i+'/'+k]=i"
      ],
      "metadata": {
        "execution": {
          "iopub.status.busy": "2023-04-12T11:39:00.985393Z",
          "iopub.execute_input": "2023-04-12T11:39:00.986586Z",
          "iopub.status.idle": "2023-04-12T11:39:13.023034Z",
          "shell.execute_reply.started": "2023-04-12T11:39:00.986556Z",
          "shell.execute_reply": "2023-04-12T11:39:13.021991Z"
        },
        "trusted": true,
        "id": "UWsvDtaelKkm"
      },
      "outputs": [],
      "execution_count": null
    },
    {
      "cell_type": "code",
      "source": [
        "data=pd.DataFrame(data.items(),columns=['path','class_'])\n",
        "data=data.sample(frac=1)\n",
        "data"
      ],
      "metadata": {
        "execution": {
          "iopub.status.busy": "2023-04-12T11:39:13.026631Z",
          "iopub.execute_input": "2023-04-12T11:39:13.026956Z",
          "iopub.status.idle": "2023-04-12T11:39:13.061915Z",
          "shell.execute_reply.started": "2023-04-12T11:39:13.026927Z",
          "shell.execute_reply": "2023-04-12T11:39:13.060896Z"
        },
        "trusted": true,
        "id": "Oa4hfOSvlKkn"
      },
      "outputs": [],
      "execution_count": null
    },
    {
      "cell_type": "code",
      "source": [
        "def split_data(data,ratio):\n",
        "    last=int(len(data)*ratio)\n",
        "    return data[:last], data[last:]"
      ],
      "metadata": {
        "execution": {
          "iopub.status.busy": "2023-04-12T11:39:13.065216Z",
          "iopub.execute_input": "2023-04-12T11:39:13.066106Z",
          "iopub.status.idle": "2023-04-12T11:39:13.071297Z",
          "shell.execute_reply.started": "2023-04-12T11:39:13.066064Z",
          "shell.execute_reply": "2023-04-12T11:39:13.070291Z"
        },
        "trusted": true,
        "id": "C0pnUVUVlKkn"
      },
      "outputs": [],
      "execution_count": null
    },
    {
      "cell_type": "code",
      "source": [
        "train,test=split_data(data,.8)"
      ],
      "metadata": {
        "execution": {
          "iopub.status.busy": "2023-04-12T11:39:13.072728Z",
          "iopub.execute_input": "2023-04-12T11:39:13.073469Z",
          "iopub.status.idle": "2023-04-12T11:39:13.081345Z",
          "shell.execute_reply.started": "2023-04-12T11:39:13.073432Z",
          "shell.execute_reply": "2023-04-12T11:39:13.080329Z"
        },
        "trusted": true,
        "id": "QYaAB4uilKko"
      },
      "outputs": [],
      "execution_count": null
    },
    {
      "cell_type": "code",
      "source": [
        "train.to_csv('train.csv',index=False)\n",
        "test.to_csv('test.csv',index=False)"
      ],
      "metadata": {
        "execution": {
          "iopub.status.busy": "2023-04-12T11:39:13.083928Z",
          "iopub.execute_input": "2023-04-12T11:39:13.084306Z",
          "iopub.status.idle": "2023-04-12T11:39:13.126282Z",
          "shell.execute_reply.started": "2023-04-12T11:39:13.084269Z",
          "shell.execute_reply": "2023-04-12T11:39:13.125411Z"
        },
        "trusted": true,
        "id": "ZSsgNpEOlKko"
      },
      "outputs": [],
      "execution_count": null
    },
    {
      "cell_type": "markdown",
      "source": [
        "# dataset balancing with oversampling"
      ],
      "metadata": {
        "id": "0glKW-aulKko"
      }
    },
    {
      "cell_type": "code",
      "source": [
        "train[\"class_\"].value_counts()"
      ],
      "metadata": {
        "execution": {
          "iopub.status.busy": "2023-04-12T11:39:13.127842Z",
          "iopub.execute_input": "2023-04-12T11:39:13.128524Z",
          "iopub.status.idle": "2023-04-12T11:39:13.141755Z",
          "shell.execute_reply.started": "2023-04-12T11:39:13.128488Z",
          "shell.execute_reply": "2023-04-12T11:39:13.140767Z"
        },
        "trusted": true,
        "id": "0FngUlHRlKkp"
      },
      "outputs": [],
      "execution_count": null
    },
    {
      "cell_type": "markdown",
      "source": [
        "# data dividing"
      ],
      "metadata": {
        "id": "38Cuv1U1lKkp"
      }
    },
    {
      "cell_type": "code",
      "source": [
        "train,valid=split_data(train,.9)"
      ],
      "metadata": {
        "execution": {
          "iopub.status.busy": "2023-04-12T11:39:13.165663Z",
          "iopub.execute_input": "2023-04-12T11:39:13.166058Z",
          "iopub.status.idle": "2023-04-12T11:39:13.171148Z",
          "shell.execute_reply.started": "2023-04-12T11:39:13.166014Z",
          "shell.execute_reply": "2023-04-12T11:39:13.170088Z"
        },
        "trusted": true,
        "id": "Lz6HtDQElKkp"
      },
      "outputs": [],
      "execution_count": null
    },
    {
      "cell_type": "code",
      "source": [
        "train"
      ],
      "metadata": {
        "execution": {
          "iopub.status.busy": "2023-04-12T11:39:13.172445Z",
          "iopub.execute_input": "2023-04-12T11:39:13.173201Z",
          "iopub.status.idle": "2023-04-12T11:39:13.187615Z",
          "shell.execute_reply.started": "2023-04-12T11:39:13.173167Z",
          "shell.execute_reply": "2023-04-12T11:39:13.186692Z"
        },
        "trusted": true,
        "id": "63GzeTGWlKkq"
      },
      "outputs": [],
      "execution_count": null
    },
    {
      "cell_type": "code",
      "source": [
        "train[\"class_\"].value_counts()"
      ],
      "metadata": {
        "execution": {
          "iopub.status.busy": "2023-04-12T11:39:13.189219Z",
          "iopub.execute_input": "2023-04-12T11:39:13.18962Z",
          "iopub.status.idle": "2023-04-12T11:39:13.199698Z",
          "shell.execute_reply.started": "2023-04-12T11:39:13.189585Z",
          "shell.execute_reply": "2023-04-12T11:39:13.198578Z"
        },
        "trusted": true,
        "id": "1q8xnBgElKkq"
      },
      "outputs": [],
      "execution_count": null
    },
    {
      "cell_type": "code",
      "source": [
        "valid"
      ],
      "metadata": {
        "execution": {
          "iopub.status.busy": "2023-04-12T11:39:13.20125Z",
          "iopub.execute_input": "2023-04-12T11:39:13.202202Z",
          "iopub.status.idle": "2023-04-12T11:39:13.213464Z",
          "shell.execute_reply.started": "2023-04-12T11:39:13.202163Z",
          "shell.execute_reply": "2023-04-12T11:39:13.212509Z"
        },
        "trusted": true,
        "id": "UObsCAOVlKkq"
      },
      "outputs": [],
      "execution_count": null
    },
    {
      "cell_type": "code",
      "source": [
        "valid[\"class_\"].value_counts()"
      ],
      "metadata": {
        "execution": {
          "iopub.status.busy": "2023-04-12T11:39:13.215719Z",
          "iopub.execute_input": "2023-04-12T11:39:13.216655Z",
          "iopub.status.idle": "2023-04-12T11:39:13.224835Z",
          "shell.execute_reply.started": "2023-04-12T11:39:13.216619Z",
          "shell.execute_reply": "2023-04-12T11:39:13.223688Z"
        },
        "trusted": true,
        "id": "X2ynIJIAlKkr"
      },
      "outputs": [],
      "execution_count": null
    },
    {
      "cell_type": "code",
      "source": [
        "test"
      ],
      "metadata": {
        "execution": {
          "iopub.status.busy": "2023-04-12T11:39:13.226768Z",
          "iopub.execute_input": "2023-04-12T11:39:13.227468Z",
          "iopub.status.idle": "2023-04-12T11:39:13.238689Z",
          "shell.execute_reply.started": "2023-04-12T11:39:13.227422Z",
          "shell.execute_reply": "2023-04-12T11:39:13.237599Z"
        },
        "trusted": true,
        "id": "AxDuYl5MlKkr"
      },
      "outputs": [],
      "execution_count": null
    },
    {
      "cell_type": "code",
      "source": [
        "test[\"class_\"].value_counts()"
      ],
      "metadata": {
        "execution": {
          "iopub.status.busy": "2023-04-12T11:39:13.240215Z",
          "iopub.execute_input": "2023-04-12T11:39:13.240986Z",
          "iopub.status.idle": "2023-04-12T11:39:13.251246Z",
          "shell.execute_reply.started": "2023-04-12T11:39:13.240825Z",
          "shell.execute_reply": "2023-04-12T11:39:13.250062Z"
        },
        "trusted": true,
        "id": "ga99dFN4lKkr"
      },
      "outputs": [],
      "execution_count": null
    },
    {
      "cell_type": "markdown",
      "source": [
        "# generators for autoencoder"
      ],
      "metadata": {
        "id": "ElOFCHytlKkr"
      }
    },
    {
      "cell_type": "code",
      "source": [
        "batch_size = 16\n",
        "size=224\n",
        "epoch=50\n",
        "train_datagen = ImageDataGenerator(rescale=1./255)\n",
        "train_generator = train_datagen.flow_from_dataframe(\n",
        "    dataframe=train,\n",
        "    x_col='path',\n",
        "    y_col='class_',\n",
        "    target_size=(size, size),\n",
        "    batch_size=batch_size,\n",
        "    class_mode=\"input\"\n",
        "    )\n",
        "valid_datagen = ImageDataGenerator(rescale=1./255)\n",
        "valid_generator = train_datagen.flow_from_dataframe(\n",
        "    dataframe=valid,\n",
        "    x_col='path',\n",
        "    y_col='class_',\n",
        "    target_size=(size, size),\n",
        "    batch_size=batch_size,\n",
        "    class_mode=\"input\"\n",
        "    )\n",
        "\n"
      ],
      "metadata": {
        "execution": {
          "iopub.status.busy": "2023-04-12T11:39:13.252866Z",
          "iopub.execute_input": "2023-04-12T11:39:13.253508Z",
          "iopub.status.idle": "2023-04-12T11:39:17.855728Z",
          "shell.execute_reply.started": "2023-04-12T11:39:13.253472Z",
          "shell.execute_reply": "2023-04-12T11:39:17.854782Z"
        },
        "trusted": true,
        "id": "dArIw-4ZlKkr"
      },
      "outputs": [],
      "execution_count": null
    },
    {
      "cell_type": "markdown",
      "source": [
        "# se for encoder"
      ],
      "metadata": {
        "id": "aNKhDoGrlKkr"
      }
    },
    {
      "cell_type": "code",
      "source": [
        "def se_block_enc(inputs,alpha):\n",
        "    input_channels = inputs.shape[-1]\n",
        "    x = tf.keras.layers.GlobalAveragePooling2D()(inputs)\n",
        "    x = tf.keras.layers.Dense(units=alpha, activation=\"relu\")(x)\n",
        "    x = tf.keras.layers.Dense(units=input_channels, activation=\"sigmoid\")(x)\n",
        "    x = tf.reshape(x, [-1, 1, 1, input_channels])\n",
        "    x = inputs * x\n",
        "    return x"
      ],
      "metadata": {
        "execution": {
          "iopub.status.busy": "2023-04-12T11:39:17.857339Z",
          "iopub.execute_input": "2023-04-12T11:39:17.857707Z",
          "iopub.status.idle": "2023-04-12T11:39:17.86582Z",
          "shell.execute_reply.started": "2023-04-12T11:39:17.85767Z",
          "shell.execute_reply": "2023-04-12T11:39:17.863872Z"
        },
        "trusted": true,
        "id": "gl9xEoculKks"
      },
      "outputs": [],
      "execution_count": null
    },
    {
      "cell_type": "markdown",
      "source": [
        "# defining auto-encoder"
      ],
      "metadata": {
        "id": "tliX-kxblKks"
      }
    },
    {
      "cell_type": "code",
      "source": [
        "# ENCODER\n",
        "input_img = Input(shape=(size,size, 3))\n",
        "x = Conv2D(48, (3, 3), activation='relu', padding='same')(input_img)\n",
        "x=se_block_enc(x,20)\n",
        "x = MaxPooling2D((2, 2), padding='same')(x)\n",
        "x = Conv2D(96, (3, 3), activation='relu', padding='same')(x)\n",
        "x=se_block_enc(x,30)\n",
        "x = MaxPooling2D((2, 2), padding='same')(x)\n",
        "x = Conv2D(192, (3, 3), activation='relu', padding='same')(x)\n",
        "x=se_block_enc(x,50)\n",
        "x = MaxPooling2D((2, 2), padding='same')(x)\n",
        "encoded = Conv2D(32, (1, 1), activation='relu', padding='same')(x)\n",
        "\n",
        "# Bottolneck\n",
        "latentSize = (28,28,32)\n",
        "\n",
        "# DECODER\n",
        "direct_input = Input(shape=latentSize)\n",
        "x = Conv2D(192, (1, 1), activation='relu', padding='same')(direct_input)\n",
        "x = UpSampling2D((2, 2))(x)\n",
        "x = Conv2D(192, (3, 3), activation='relu', padding='same')(x)\n",
        "x = UpSampling2D((2, 2))(x)\n",
        "x = Conv2D(96, (3, 3), activation='relu', padding='same')(x)\n",
        "x = UpSampling2D((2, 2))(x)\n",
        "x = Conv2D(48, (3, 3), activation='relu', padding='same')(x)\n",
        "x = Conv2D(192, (3, 3), activation='relu', padding='same')(x)\n",
        "\n",
        "decoded = Conv2D(3, (3, 3), activation='sigmoid', padding='same')(x)\n",
        "\n",
        "# COMPILE\n",
        "encoder = Model(input_img, encoded)\n",
        "decoder = Model(direct_input, decoded)\n",
        "autoencoder = Model(input_img, decoder(encoded))"
      ],
      "metadata": {
        "execution": {
          "iopub.status.busy": "2023-04-12T11:39:17.86747Z",
          "iopub.execute_input": "2023-04-12T11:39:17.86796Z",
          "iopub.status.idle": "2023-04-12T11:39:20.777668Z",
          "shell.execute_reply.started": "2023-04-12T11:39:17.867923Z",
          "shell.execute_reply": "2023-04-12T11:39:20.776644Z"
        },
        "trusted": true,
        "id": "2Nx3798IlKks"
      },
      "outputs": [],
      "execution_count": null
    },
    {
      "cell_type": "code",
      "source": [
        "autoencoder.summary()"
      ],
      "metadata": {
        "execution": {
          "iopub.status.busy": "2023-04-12T11:39:20.779373Z",
          "iopub.execute_input": "2023-04-12T11:39:20.779754Z",
          "iopub.status.idle": "2023-04-12T11:39:20.843744Z",
          "shell.execute_reply.started": "2023-04-12T11:39:20.779713Z",
          "shell.execute_reply": "2023-04-12T11:39:20.842969Z"
        },
        "trusted": true,
        "id": "4ECi3ePvlKks"
      },
      "outputs": [],
      "execution_count": null
    },
    {
      "cell_type": "markdown",
      "source": [
        "# complining auto-encoder"
      ],
      "metadata": {
        "id": "_AOmGwWNlKks"
      }
    },
    {
      "cell_type": "code",
      "source": [
        "autoencoder.compile(optimizer=tf.keras.optimizers.experimental.Adamax(), loss='binary_crossentropy')\n",
        "history = autoencoder.fit_generator(train_generator,\n",
        "                                 validation_data= valid_generator,\n",
        "        epochs = epoch, verbose=2)\n"
      ],
      "metadata": {
        "execution": {
          "iopub.status.busy": "2023-04-12T11:39:20.844725Z",
          "iopub.execute_input": "2023-04-12T11:39:20.84508Z",
          "iopub.status.idle": "2023-04-12T11:42:45.448902Z",
          "shell.execute_reply.started": "2023-04-12T11:39:20.845026Z",
          "shell.execute_reply": "2023-04-12T11:42:45.44763Z"
        },
        "trusted": true,
        "id": "DVnkIbdalKks"
      },
      "outputs": [],
      "execution_count": null
    },
    {
      "cell_type": "markdown",
      "source": [
        "# auto-encoder loss graph"
      ],
      "metadata": {
        "id": "5ASAMWoulKkt"
      }
    },
    {
      "cell_type": "code",
      "source": [
        "epochs = list(range(len(history.history['loss'])))\n",
        "fig , ax = plt.subplots(1,2)\n",
        "\n",
        "train_loss = history.history['loss']\n",
        "\n",
        "val_loss = history.history['val_loss']\n",
        "\n",
        "fig.set_size_inches(20,10)\n",
        "\n",
        "\n",
        "\n",
        "ax[1].plot(epochs , train_loss , 'g-o' ,color='r', label = 'Training Loss')\n",
        "ax[1].plot(epochs , val_loss , 'go-' , label = 'Validation Loss')\n",
        "ax[1].set_title('Training Loss')\n",
        "ax[1].legend()\n",
        "ax[1].set_xlabel(\"Epochs\")\n",
        "ax[1].set_ylabel(\"Training Loss\")\n",
        "plt.show()"
      ],
      "metadata": {
        "execution": {
          "iopub.status.busy": "2023-04-12T11:42:45.450948Z",
          "iopub.execute_input": "2023-04-12T11:42:45.451461Z",
          "iopub.status.idle": "2023-04-12T11:42:45.833286Z",
          "shell.execute_reply.started": "2023-04-12T11:42:45.451402Z",
          "shell.execute_reply": "2023-04-12T11:42:45.832118Z"
        },
        "trusted": true,
        "id": "nt1uJEfhlKkt"
      },
      "outputs": [],
      "execution_count": null
    },
    {
      "cell_type": "markdown",
      "source": [
        "# saving model"
      ],
      "metadata": {
        "id": "aB6Mol7ulKkt"
      }
    },
    {
      "cell_type": "code",
      "source": [
        "autoencoder.save(\"auto_encoder.h5\")\n",
        "encoder.save('encoder.h5')\n",
        "decoder.save('decoder.h5')"
      ],
      "metadata": {
        "execution": {
          "iopub.status.busy": "2023-04-12T11:42:45.834784Z",
          "iopub.execute_input": "2023-04-12T11:42:45.835248Z",
          "iopub.status.idle": "2023-04-12T11:42:46.006529Z",
          "shell.execute_reply.started": "2023-04-12T11:42:45.835204Z",
          "shell.execute_reply": "2023-04-12T11:42:46.005523Z"
        },
        "trusted": true,
        "id": "jIl5UKrClKku"
      },
      "outputs": [],
      "execution_count": null
    },
    {
      "cell_type": "markdown",
      "source": [
        "# checking the performance of auto-encoder"
      ],
      "metadata": {
        "id": "gKlqSGlvlKku"
      }
    },
    {
      "cell_type": "code",
      "source": [
        "orig = cv2.imread(test.iloc[0]['path'])\n",
        "orig = cv2.cvtColor(orig, cv2.COLOR_BGR2RGB)\n",
        "orig=orig* 1.0 / 255.0\n",
        "orig = cv2.resize(orig, (size, size),\n",
        "               interpolation = cv2.INTER_NEAREST)\n",
        "img = tf.expand_dims(orig, axis=0)\n",
        "\n",
        "encoder_output=encoder.predict(img)\n",
        "plt.title('Original')\n",
        "plt.imshow(orig)"
      ],
      "metadata": {
        "execution": {
          "iopub.status.busy": "2023-04-12T11:42:46.008089Z",
          "iopub.execute_input": "2023-04-12T11:42:46.008448Z",
          "iopub.status.idle": "2023-04-12T11:42:46.620993Z",
          "shell.execute_reply.started": "2023-04-12T11:42:46.00841Z",
          "shell.execute_reply": "2023-04-12T11:42:46.620124Z"
        },
        "trusted": true,
        "id": "9HW71t83lKku"
      },
      "outputs": [],
      "execution_count": null
    },
    {
      "cell_type": "code",
      "source": [
        "encoder_output.shape"
      ],
      "metadata": {
        "execution": {
          "iopub.status.busy": "2023-04-12T11:42:46.622086Z",
          "iopub.execute_input": "2023-04-12T11:42:46.6224Z",
          "iopub.status.idle": "2023-04-12T11:42:46.631311Z",
          "shell.execute_reply.started": "2023-04-12T11:42:46.62237Z",
          "shell.execute_reply": "2023-04-12T11:42:46.63Z"
        },
        "trusted": true,
        "id": "sjwHchk2lKku"
      },
      "outputs": [],
      "execution_count": null
    },
    {
      "cell_type": "code",
      "source": [
        "plt.imshow(encoder_output[0][0]) # a channel output shown in plot\n",
        "plt.title(\"a samplt output of encoded image\")"
      ],
      "metadata": {
        "execution": {
          "iopub.status.busy": "2023-04-12T11:42:46.632848Z",
          "iopub.execute_input": "2023-04-12T11:42:46.633209Z",
          "iopub.status.idle": "2023-04-12T11:42:46.858956Z",
          "shell.execute_reply.started": "2023-04-12T11:42:46.633171Z",
          "shell.execute_reply": "2023-04-12T11:42:46.857928Z"
        },
        "trusted": true,
        "id": "aap5PLF-lKkv"
      },
      "outputs": [],
      "execution_count": null
    },
    {
      "cell_type": "code",
      "source": [
        "original_output=decoder.predict(encoder_output)"
      ],
      "metadata": {
        "execution": {
          "iopub.status.busy": "2023-04-12T11:42:46.860584Z",
          "iopub.execute_input": "2023-04-12T11:42:46.860946Z",
          "iopub.status.idle": "2023-04-12T11:42:47.212815Z",
          "shell.execute_reply.started": "2023-04-12T11:42:46.860909Z",
          "shell.execute_reply": "2023-04-12T11:42:47.211745Z"
        },
        "trusted": true,
        "id": "7p9vrhUelKkv"
      },
      "outputs": [],
      "execution_count": null
    },
    {
      "cell_type": "code",
      "source": [
        "plt.imshow(original_output[0])\n",
        "plt.title(\"reconstructed image\")"
      ],
      "metadata": {
        "execution": {
          "iopub.status.busy": "2023-04-12T11:42:47.219442Z",
          "iopub.execute_input": "2023-04-12T11:42:47.219741Z",
          "iopub.status.idle": "2023-04-12T11:42:47.534642Z",
          "shell.execute_reply.started": "2023-04-12T11:42:47.219713Z",
          "shell.execute_reply": "2023-04-12T11:42:47.533531Z"
        },
        "trusted": true,
        "id": "_D-yqBqvlKkv"
      },
      "outputs": [],
      "execution_count": null
    },
    {
      "cell_type": "code",
      "source": [
        "train_datagen = ImageDataGenerator(\n",
        "    rescale=1.0 / 255,\n",
        "    rotation_range=40,\n",
        "    width_shift_range=0.2,\n",
        "    height_shift_range=0.2,\n",
        "    shear_range=0.2,\n",
        "    zoom_range=0.2,\n",
        "    horizontal_flip=True,\n",
        "    fill_mode=\"nearest\",\n",
        ")\n",
        "train_images = train_datagen.flow_from_dataframe(\n",
        "    dataframe=train,\n",
        "    x_col='path',\n",
        "    y_col='class_',\n",
        "    batch_size=batch_size,\n",
        "    target_size=(size, size),\n",
        "    color_mode='rgb',\n",
        "    class_mode='categorical',\n",
        "    shuffle=True,\n",
        "    seed=42,\n",
        ")\n",
        "valid_images=valid_datagen.flow_from_dataframe(\n",
        "    dataframe=valid,\n",
        "    x_col='path',\n",
        "    y_col='class_',\n",
        "    batch_size=batch_size,\n",
        "    target_size=(size, size),\n",
        "    color_mode='rgb',\n",
        "    class_mode='categorical',\n",
        "    shuffle=True,\n",
        "    seed=42,\n",
        ")"
      ],
      "metadata": {
        "execution": {
          "iopub.status.busy": "2023-04-12T11:42:47.536202Z",
          "iopub.execute_input": "2023-04-12T11:42:47.537347Z",
          "iopub.status.idle": "2023-04-12T11:42:52.741897Z",
          "shell.execute_reply.started": "2023-04-12T11:42:47.537302Z",
          "shell.execute_reply": "2023-04-12T11:42:52.740915Z"
        },
        "trusted": true,
        "id": "8vTw-BYtlKk1"
      },
      "outputs": [],
      "execution_count": null
    },
    {
      "cell_type": "markdown",
      "source": [
        "# freezing encoder"
      ],
      "metadata": {
        "id": "1_FfG57ylKk1"
      }
    },
    {
      "cell_type": "code",
      "source": [
        "for i in encoder.layers:\n",
        "    i.freeze=True"
      ],
      "metadata": {
        "execution": {
          "iopub.status.busy": "2023-04-12T11:42:52.743317Z",
          "iopub.execute_input": "2023-04-12T11:42:52.743789Z",
          "iopub.status.idle": "2023-04-12T11:42:52.749991Z",
          "shell.execute_reply.started": "2023-04-12T11:42:52.743745Z",
          "shell.execute_reply": "2023-04-12T11:42:52.748773Z"
        },
        "trusted": true,
        "id": "b2fjDjWUlKk1"
      },
      "outputs": [],
      "execution_count": null
    },
    {
      "cell_type": "markdown",
      "source": [
        "# basic functions"
      ],
      "metadata": {
        "id": "jQTK0zYBlKk2"
      }
    },
    {
      "cell_type": "code",
      "source": [
        "import tensorflow_hub as hub\n",
        "def get_from_hub(model_url):\n",
        "    inputs = tf.keras.Input((224, 224, 3))\n",
        "    hub_module = hub.KerasLayer(model_url,trainable=False)\n",
        "    outputs = hub_module(inputs)\n",
        "    return tf.keras.Model(inputs, outputs)"
      ],
      "metadata": {
        "execution": {
          "iopub.status.busy": "2023-04-12T11:42:52.751807Z",
          "iopub.execute_input": "2023-04-12T11:42:52.752583Z",
          "iopub.status.idle": "2023-04-12T11:42:53.024216Z",
          "shell.execute_reply.started": "2023-04-12T11:42:52.752544Z",
          "shell.execute_reply": "2023-04-12T11:42:53.023172Z"
        },
        "trusted": true,
        "id": "uptX4purlKk2"
      },
      "outputs": [],
      "execution_count": null
    },
    {
      "cell_type": "code",
      "source": [
        "def se_block(inputs):\n",
        "    input_channels = inputs.shape[-1]\n",
        "    x = tf.keras.layers.GlobalAveragePooling2D()(inputs)\n",
        "    x = tf.keras.layers.Dense(units=len(train_images.class_indices.keys()), activation=\"relu\")(x)\n",
        "    x = tf.keras.layers.Dense(units=input_channels, activation=\"sigmoid\")(x)\n",
        "    x = tf.reshape(x, [-1, 1, 1, input_channels])\n",
        "    x = inputs * x\n",
        "    return x"
      ],
      "metadata": {
        "execution": {
          "iopub.status.busy": "2023-04-12T11:42:53.025565Z",
          "iopub.execute_input": "2023-04-12T11:42:53.025928Z",
          "iopub.status.idle": "2023-04-12T11:42:53.033769Z",
          "shell.execute_reply.started": "2023-04-12T11:42:53.025892Z",
          "shell.execute_reply": "2023-04-12T11:42:53.032581Z"
        },
        "trusted": true,
        "id": "k_16z_0ElKk2"
      },
      "outputs": [],
      "execution_count": null
    },
    {
      "cell_type": "code",
      "source": [
        "swin=get_from_hub('https://tfhub.dev/sayakpaul/swin_large_patch4_window7_224_in22k_fe/1')"
      ],
      "metadata": {
        "execution": {
          "iopub.status.busy": "2023-04-12T11:42:53.035129Z",
          "iopub.execute_input": "2023-04-12T11:42:53.036234Z",
          "iopub.status.idle": "2023-04-12T11:43:42.035847Z",
          "shell.execute_reply.started": "2023-04-12T11:42:53.036195Z",
          "shell.execute_reply": "2023-04-12T11:43:42.034757Z"
        },
        "trusted": true,
        "id": "pZAZh-4mlKk2"
      },
      "outputs": [],
      "execution_count": null
    },
    {
      "cell_type": "markdown",
      "source": [
        "# fine tuning swin transformer"
      ],
      "metadata": {
        "id": "0jIj9rCBlKk2"
      }
    },
    {
      "cell_type": "code",
      "source": [
        "from tensorflow.keras import regularizers\n",
        "x=swin.output\n",
        "x=tf.keras.layers.BatchNormalization(axis=-1, momentum=0.99, epsilon=0.001 )(x)\n",
        "x = Dense(32, kernel_regularizer = regularizers.l2(l = 0.016),activity_regularizer=regularizers.l1(0.006),\n",
        "                bias_regularizer=regularizers.l1(0.006) ,activation='relu')(x)\n",
        "x=Dense(256,activation='relu')(x)\n",
        "x_swin = Dense(128, activation='relu')(x)"
      ],
      "metadata": {
        "execution": {
          "iopub.status.busy": "2023-04-12T11:43:42.040805Z",
          "iopub.execute_input": "2023-04-12T11:43:42.046304Z",
          "iopub.status.idle": "2023-04-12T11:43:42.137731Z",
          "shell.execute_reply.started": "2023-04-12T11:43:42.046265Z",
          "shell.execute_reply": "2023-04-12T11:43:42.136767Z"
        },
        "trusted": true,
        "id": "RuZwoT98lKk2"
      },
      "outputs": [],
      "execution_count": null
    },
    {
      "cell_type": "markdown",
      "source": [
        "# fine tunine encoder"
      ],
      "metadata": {
        "id": "7NpkoMhGlKk2"
      }
    },
    {
      "cell_type": "code",
      "source": [
        "def get_model(base_model):\n",
        "    x = tf.keras.layers.GlobalAveragePooling2D()(se_block(base_model.output))\n",
        "    x=tf.keras.layers.BatchNormalization(axis=-1, momentum=0.99, epsilon=0.001 )(x)\n",
        "    x = Dense(512, kernel_regularizer = regularizers.l2(l = 0.016),activity_regularizer=regularizers.l1(0.006),\n",
        "                    bias_regularizer=regularizers.l1(0.006) ,activation='relu')(x)\n",
        "    x=Dense(256,activation='relu')(x)\n",
        "    return Dense(128,activation='relu')(x)"
      ],
      "metadata": {
        "execution": {
          "iopub.status.busy": "2023-04-12T11:43:42.13949Z",
          "iopub.execute_input": "2023-04-12T11:43:42.140231Z",
          "iopub.status.idle": "2023-04-12T11:43:42.147485Z",
          "shell.execute_reply.started": "2023-04-12T11:43:42.140189Z",
          "shell.execute_reply": "2023-04-12T11:43:42.146502Z"
        },
        "trusted": true,
        "id": "p4DDn4kqlKk2"
      },
      "outputs": [],
      "execution_count": null
    },
    {
      "cell_type": "code",
      "source": [
        "x_encoder=get_model(encoder)"
      ],
      "metadata": {
        "execution": {
          "iopub.status.busy": "2023-04-12T11:43:42.149247Z",
          "iopub.execute_input": "2023-04-12T11:43:42.149964Z",
          "iopub.status.idle": "2023-04-12T11:43:42.312684Z",
          "shell.execute_reply.started": "2023-04-12T11:43:42.149928Z",
          "shell.execute_reply": "2023-04-12T11:43:42.311675Z"
        },
        "trusted": true,
        "id": "plcQ6q8JlKk2"
      },
      "outputs": [],
      "execution_count": null
    },
    {
      "cell_type": "markdown",
      "source": [
        "# final model"
      ],
      "metadata": {
        "id": "FrG6obEQlKk2"
      }
    },
    {
      "cell_type": "code",
      "source": [
        "from tensorflow.keras.layers import concatenate\n",
        "concatenated=concatenate([x_encoder,x_swin])\n",
        "bigmodel_prediction = Dense(len(train_images.class_indices), activation='softmax')(concatenated)\n",
        "model = Model([encoder.input,swin.input], bigmodel_prediction)\n",
        "from tensorflow.keras.utils import plot_model\n",
        "plot_model(model)"
      ],
      "metadata": {
        "execution": {
          "iopub.status.busy": "2023-04-12T11:43:42.314479Z",
          "iopub.execute_input": "2023-04-12T11:43:42.315263Z",
          "iopub.status.idle": "2023-04-12T11:43:43.094232Z",
          "shell.execute_reply.started": "2023-04-12T11:43:42.315223Z",
          "shell.execute_reply": "2023-04-12T11:43:43.093021Z"
        },
        "trusted": true,
        "id": "Xe9UZDPIlKk3"
      },
      "outputs": [],
      "execution_count": null
    },
    {
      "cell_type": "code",
      "source": [
        "trainable_params = sum([v.numpy().size for v in model.trainable_variables])\n",
        "non_trainable_params = sum([v.numpy().size for v in model.non_trainable_variables])\n",
        "print(\"trainable parametres: \"+ str(trainable_params) + \" non trainable parametres: \"+ str(non_trainable_params))"
      ],
      "metadata": {
        "execution": {
          "iopub.status.busy": "2023-04-12T11:43:43.096104Z",
          "iopub.execute_input": "2023-04-12T11:43:43.097203Z",
          "iopub.status.idle": "2023-04-12T11:43:43.69082Z",
          "shell.execute_reply.started": "2023-04-12T11:43:43.097161Z",
          "shell.execute_reply": "2023-04-12T11:43:43.689772Z"
        },
        "trusted": true,
        "id": "yzJxH1pzlKk3"
      },
      "outputs": [],
      "execution_count": null
    },
    {
      "cell_type": "markdown",
      "source": [
        "# generators for actual model"
      ],
      "metadata": {
        "id": "VXLBbrLslKk3"
      }
    },
    {
      "cell_type": "code",
      "source": [
        "def generator_two_img(gen):\n",
        "    while True:\n",
        "        X1i = gen.next()\n",
        "        yield [X1i[0],X1i[0]], X1i[1]"
      ],
      "metadata": {
        "execution": {
          "iopub.status.busy": "2023-04-12T11:43:43.692892Z",
          "iopub.execute_input": "2023-04-12T11:43:43.693972Z",
          "iopub.status.idle": "2023-04-12T11:43:43.699443Z",
          "shell.execute_reply.started": "2023-04-12T11:43:43.693929Z",
          "shell.execute_reply": "2023-04-12T11:43:43.698355Z"
        },
        "trusted": true,
        "id": "cU0og-CLlKk3"
      },
      "outputs": [],
      "execution_count": null
    },
    {
      "cell_type": "markdown",
      "source": [
        "# training model"
      ],
      "metadata": {
        "id": "2X1XugqSlKk3"
      }
    },
    {
      "cell_type": "code",
      "source": [
        "model.compile(loss=\"categorical_crossentropy\",optimizer=tf.keras.optimizers.experimental.Adamax(),metrics=['accuracy'])"
      ],
      "metadata": {
        "execution": {
          "iopub.status.busy": "2023-04-12T11:43:43.701282Z",
          "iopub.execute_input": "2023-04-12T11:43:43.70195Z",
          "iopub.status.idle": "2023-04-12T11:43:43.722972Z",
          "shell.execute_reply.started": "2023-04-12T11:43:43.701912Z",
          "shell.execute_reply": "2023-04-12T11:43:43.722075Z"
        },
        "trusted": true,
        "id": "b2aU4ri6lKk3"
      },
      "outputs": [],
      "execution_count": null
    },
    {
      "cell_type": "code",
      "source": [
        "history = model.fit(\n",
        "    generator_two_img(train_images),\n",
        "    validation_data=generator_two_img(valid_images),\n",
        "    validation_steps=valid_images.n//batch_size,\n",
        "    validation_batch_size=batch_size,\n",
        "    steps_per_epoch=train_generator.n//batch_size,\n",
        "    batch_size=batch_size,\n",
        "    epochs=epoch,\n",
        ")"
      ],
      "metadata": {
        "execution": {
          "iopub.status.busy": "2023-04-12T11:43:43.724377Z",
          "iopub.execute_input": "2023-04-12T11:43:43.724794Z",
          "iopub.status.idle": "2023-04-12T11:49:29.838859Z",
          "shell.execute_reply.started": "2023-04-12T11:43:43.724758Z",
          "shell.execute_reply": "2023-04-12T11:49:29.837755Z"
        },
        "trusted": true,
        "id": "zd4FBMlRlKk3"
      },
      "outputs": [],
      "execution_count": null
    },
    {
      "cell_type": "code",
      "source": [
        "model.save('model.h5')"
      ],
      "metadata": {
        "execution": {
          "iopub.status.busy": "2023-04-12T11:49:29.840594Z",
          "iopub.execute_input": "2023-04-12T11:49:29.841281Z",
          "iopub.status.idle": "2023-04-12T11:49:32.061084Z",
          "shell.execute_reply.started": "2023-04-12T11:49:29.841232Z",
          "shell.execute_reply": "2023-04-12T11:49:32.06003Z"
        },
        "trusted": true,
        "id": "7GvDNcjrlKk3"
      },
      "outputs": [],
      "execution_count": null
    },
    {
      "cell_type": "markdown",
      "source": [
        "# performance evaluation"
      ],
      "metadata": {
        "id": "tFsije1FlKk4"
      }
    },
    {
      "cell_type": "code",
      "source": [
        "epochs = list(range(len(history.history['accuracy'])))\n",
        "fig , ax = plt.subplots(1,2)\n",
        "train_acc = history.history['accuracy']\n",
        "train_loss = history.history['loss']\n",
        "val_acc = history.history['val_accuracy']\n",
        "val_loss = history.history['val_loss']\n",
        "\n",
        "fig.set_size_inches(20,10)\n",
        "\n",
        "ax[0].plot(epochs , train_acc , 'go-' ,color='r', label = 'Training Accuracy')\n",
        "ax[0].plot(epochs , val_acc , 'go-' , label = 'Validation Accuracy')\n",
        "ax[0].set_title('Training Accuracy')\n",
        "ax[0].legend()\n",
        "ax[0].set_xlabel(\"Epochs\")\n",
        "ax[0].set_ylabel(\"Accuracy\")\n",
        "\n",
        "\n",
        "ax[1].plot(epochs , train_loss , 'g-o' ,color='r', label = 'Training Loss')\n",
        "ax[1].plot(epochs , val_loss , 'go-' , label = 'Validation Loss')\n",
        "ax[1].set_title('Training Loss')\n",
        "ax[1].legend()\n",
        "ax[1].set_xlabel(\"Epochs\")\n",
        "ax[1].set_ylabel(\"Training Loss\")\n",
        "plt.show()"
      ],
      "metadata": {
        "execution": {
          "iopub.status.busy": "2023-04-12T11:49:32.067351Z",
          "iopub.execute_input": "2023-04-12T11:49:32.06765Z",
          "iopub.status.idle": "2023-04-12T11:49:32.455789Z",
          "shell.execute_reply.started": "2023-04-12T11:49:32.067622Z",
          "shell.execute_reply": "2023-04-12T11:49:32.453265Z"
        },
        "trusted": true,
        "id": "Yh-dN49FlKk4"
      },
      "outputs": [],
      "execution_count": null
    },
    {
      "cell_type": "markdown",
      "source": [
        "# test datagen"
      ],
      "metadata": {
        "id": "5kvQS3UwlKk4"
      }
    },
    {
      "cell_type": "code",
      "source": [
        "class_=train_images.class_indices.keys()"
      ],
      "metadata": {
        "execution": {
          "iopub.status.busy": "2023-04-12T11:49:32.457425Z",
          "iopub.execute_input": "2023-04-12T11:49:32.457821Z",
          "iopub.status.idle": "2023-04-12T11:49:32.462891Z",
          "shell.execute_reply.started": "2023-04-12T11:49:32.457782Z",
          "shell.execute_reply": "2023-04-12T11:49:32.461674Z"
        },
        "trusted": true,
        "id": "OIXgxw9ulKk4"
      },
      "outputs": [],
      "execution_count": null
    },
    {
      "cell_type": "code",
      "source": [
        "test_generator = ImageDataGenerator(\n",
        "    rescale=1.0 / 255,\n",
        ")\n",
        "test_images = test_generator.flow_from_dataframe(\n",
        "    dataframe=test,\n",
        "    x_col='path',\n",
        "    y_col='class_',\n",
        "    target_size=(size, size),\n",
        "    color_mode='rgb',\n",
        "    class_mode='categorical',\n",
        "    batch_size=batch_size,\n",
        "    shuffle=False,\n",
        "    subset='training'\n",
        ")"
      ],
      "metadata": {
        "execution": {
          "iopub.status.busy": "2023-04-12T11:49:32.464843Z",
          "iopub.execute_input": "2023-04-12T11:49:32.46528Z",
          "iopub.status.idle": "2023-04-12T11:49:33.682912Z",
          "shell.execute_reply.started": "2023-04-12T11:49:32.465179Z",
          "shell.execute_reply": "2023-04-12T11:49:33.681962Z"
        },
        "trusted": true,
        "id": "UYegOUzAlKk4"
      },
      "outputs": [],
      "execution_count": null
    },
    {
      "cell_type": "code",
      "source": [
        "def prediction_generator(test_images):\n",
        "    k=0\n",
        "    for x in test_images:\n",
        "        k+=len(x[1])\n",
        "        yield [x[0],x[0]], x[1]\n",
        "        if(k>=test_images.n):\n",
        "            break"
      ],
      "metadata": {
        "execution": {
          "iopub.status.busy": "2023-04-12T11:49:33.684576Z",
          "iopub.execute_input": "2023-04-12T11:49:33.684949Z",
          "iopub.status.idle": "2023-04-12T11:49:33.691035Z",
          "shell.execute_reply.started": "2023-04-12T11:49:33.684913Z",
          "shell.execute_reply": "2023-04-12T11:49:33.689857Z"
        },
        "trusted": true,
        "id": "mrG494n2lKk4"
      },
      "outputs": [],
      "execution_count": null
    },
    {
      "cell_type": "code",
      "source": [
        "from sklearn.metrics import accuracy_score\n",
        "proba=model.predict(prediction_generator(test_images))\n",
        "predicted = np.argmax(proba,axis=1)\n",
        "true=test_images.labels\n",
        "accuracy_score(predicted, true)"
      ],
      "metadata": {
        "execution": {
          "iopub.status.busy": "2023-04-12T11:49:33.692857Z",
          "iopub.execute_input": "2023-04-12T11:49:33.693285Z",
          "iopub.status.idle": "2023-04-12T11:50:47.927519Z",
          "shell.execute_reply.started": "2023-04-12T11:49:33.693248Z",
          "shell.execute_reply": "2023-04-12T11:50:47.926307Z"
        },
        "trusted": true,
        "id": "pYBTNaDylKk4"
      },
      "outputs": [],
      "execution_count": null
    },
    {
      "cell_type": "markdown",
      "source": [
        "# confusion matrix"
      ],
      "metadata": {
        "id": "998Zt5UblKk5"
      }
    },
    {
      "cell_type": "code",
      "source": [
        "from sklearn.metrics import confusion_matrix\n",
        "import seaborn as sns\n",
        "class_=test_images.class_indices.keys()\n",
        "cm = confusion_matrix(true, predicted)\n",
        "fig = plt.figure(figsize=(16, 14))\n",
        "ax= plt.subplot()\n",
        "sns.heatmap(cm, annot=True, ax = ax,cmap=\"BuPu\");\n",
        "ax.set_xlabel('Predicted', fontsize=20)\n",
        "ax.xaxis.set_label_position('bottom')\n",
        "plt.xticks(rotation=90)\n",
        "ax.xaxis.set_ticklabels(class_, fontsize = 10)\n",
        "ax.xaxis.tick_bottom()\n",
        "\n",
        "ax.set_ylabel('True', fontsize=20)\n",
        "ax.yaxis.set_ticklabels(class_, fontsize = 10)\n",
        "plt.yticks(rotation=0)\n",
        "\n",
        "plt.title('', fontsize=60)\n",
        "\n",
        "plt.savefig('ConMat24.png')\n",
        "plt.show()"
      ],
      "metadata": {
        "execution": {
          "iopub.status.busy": "2023-04-12T11:50:47.92911Z",
          "iopub.execute_input": "2023-04-12T11:50:47.929687Z",
          "iopub.status.idle": "2023-04-12T11:50:49.349546Z",
          "shell.execute_reply.started": "2023-04-12T11:50:47.929647Z",
          "shell.execute_reply": "2023-04-12T11:50:49.348191Z"
        },
        "trusted": true,
        "id": "nPgZPY7NlKk5"
      },
      "outputs": [],
      "execution_count": null
    },
    {
      "cell_type": "markdown",
      "source": [
        "# ROC"
      ],
      "metadata": {
        "id": "xQzbbej2lKk5"
      }
    },
    {
      "cell_type": "code",
      "source": [
        "from sklearn.metrics import roc_curve, roc_auc_score\n",
        "from matplotlib import cm\n",
        "n=len(true)\n",
        "dim=max(true)+1\n",
        "result=[]\n",
        "for i in true:\n",
        "    result.append([0 for i in range(dim)])\n",
        "    result[len(result)-1][i]=1\n",
        "\n",
        "\n",
        "fpr = dict()\n",
        "tpr = dict()\n",
        "roc_auc = dict()\n",
        "n_classes =len(test_images.class_indices.keys())\n",
        "y_test=np.array(result)\n",
        "y_pred=np.array(proba)\n",
        "fpr = dict()\n",
        "tpr = dict()\n",
        "roc_auc = dict()\n",
        "\n",
        "rev={}\n",
        "for i in class_:\n",
        "    rev[train_images.class_indices[i]]=i\n",
        "\n",
        "\n",
        "for i in range(n_classes):\n",
        "    fpr[i], tpr[i], _ = roc_curve(y_test[:, i], y_pred[:, i])\n",
        "    roc_auc[i] = roc_auc_score(y_test[:, i], y_pred[:, i])\n",
        "\n",
        "\n",
        "fpr[\"micro\"], tpr[\"micro\"], _ = roc_curve(y_test.ravel(), y_pred.ravel())\n",
        "roc_auc[\"micro\"] = roc_auc_score(y_test, y_pred, multi_class='ovr')\n",
        "\n",
        "\n",
        "cmap = cm.get_cmap('tab10')\n",
        "\n",
        "# Plot the ROC curve for each class and micro-average with automatic color selection\n",
        "plt.figure(figsize=(10,16))\n",
        "lw = 2\n",
        "for i in range(n_classes):\n",
        "    color = cmap(i)\n",
        "    plt.plot(fpr[i], tpr[i], color=color, lw=lw,\n",
        "             label='ROC curve of class {0} (area = {1:0.2f})'\n",
        "             ''.format(rev[i], roc_auc[i]))\n",
        "\n",
        "plt.plot(fpr[\"micro\"], tpr[\"micro\"],\n",
        "         label='micro-average ROC curve (area = {0:0.2f})'\n",
        "         ''.format(roc_auc[\"micro\"]),\n",
        "         color=cmap(n_classes), linestyle=':', linewidth=4)\n",
        "\n",
        "plt.plot([0, 1], [0, 1], 'k--', lw=lw)\n",
        "plt.xlim([0.0, 1.0])\n",
        "plt.ylim([0.0, 1.05])\n",
        "plt.xlabel('False Positive Rate')\n",
        "plt.ylabel('True Positive Rate')\n",
        "plt.title('ROC Curve')\n",
        "plt.legend(loc=\"lower right\")\n",
        "plt.show()"
      ],
      "metadata": {
        "execution": {
          "iopub.status.busy": "2023-04-12T11:50:49.351429Z",
          "iopub.execute_input": "2023-04-12T11:50:49.351853Z",
          "iopub.status.idle": "2023-04-12T11:50:49.788069Z",
          "shell.execute_reply.started": "2023-04-12T11:50:49.351814Z",
          "shell.execute_reply": "2023-04-12T11:50:49.787102Z"
        },
        "trusted": true,
        "id": "LBKhE3YZlKk5"
      },
      "outputs": [],
      "execution_count": null
    },
    {
      "cell_type": "markdown",
      "source": [
        "# AUC"
      ],
      "metadata": {
        "id": "bcBV_oUklKk5"
      }
    },
    {
      "cell_type": "code",
      "source": [
        "from sklearn.metrics import roc_curve, auc\n",
        "import matplotlib.pyplot as plt\n",
        "\n",
        "y_true=y_test\n",
        "y_score=y_pred\n",
        "fpr, tpr, thresholds = roc_curve(y_test.ravel(), y_pred.ravel())\n",
        "roc_auc = auc(fpr, tpr)\n",
        "\n",
        "plt.figure()\n",
        "lw = 2\n",
        "plt.plot(fpr, tpr, color='darkorange',\n",
        "         lw=lw, label='ROC curve (area = %0.2f)' % roc_auc)\n",
        "plt.plot([0, 1], [0, 1], color='navy', lw=lw, linestyle='--')\n",
        "plt.xlim([0.0, 1.0])\n",
        "plt.ylim([0.0, 1.05])\n",
        "plt.xlabel('False Positive Rate')\n",
        "plt.ylabel('True Positive Rate')\n",
        "plt.title('AUC Curve')\n",
        "plt.legend(loc=\"lower right\")\n",
        "plt.show()"
      ],
      "metadata": {
        "execution": {
          "iopub.status.busy": "2023-04-12T11:50:49.78941Z",
          "iopub.execute_input": "2023-04-12T11:50:49.790439Z",
          "iopub.status.idle": "2023-04-12T11:50:50.001981Z",
          "shell.execute_reply.started": "2023-04-12T11:50:49.790397Z",
          "shell.execute_reply": "2023-04-12T11:50:50.000984Z"
        },
        "trusted": true,
        "id": "agOQXCwqlKk5"
      },
      "outputs": [],
      "execution_count": null
    }
  ]
}